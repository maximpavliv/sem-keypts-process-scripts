{
 "cells": [
  {
   "cell_type": "code",
   "execution_count": 1,
   "metadata": {},
   "outputs": [],
   "source": [
    "import h5py\n",
    "import numpy as np\n",
    "\n",
    "with h5py.File('/home/maxim/depth_dataset/train.h5', 'r') as hdf_train:    \n",
    "    center_train = np.array(hdf_train.get('center'))\n",
    "    part_train = np.array(hdf_train.get('part'))\n",
    "    scale_train = np.array(hdf_train.get('scale'))\n",
    "\n",
    "with h5py.File('/home/maxim/depth_dataset/train_minimal.h5', 'w') as hdf_train_minimal:\n",
    "        hdf_train_minimal.create_dataset('center', data=center_train)\n",
    "        hdf_train_minimal.create_dataset('scale', data=scale_train)\n",
    "        hdf_train_minimal.create_dataset('part', data=part_train)\n",
    "    \n",
    "with h5py.File('/home/maxim/depth_dataset/valid.h5', 'r') as hdf_valid:    \n",
    "    center_valid = np.array(hdf_valid.get('center'))\n",
    "    part_valid = np.array(hdf_valid.get('part'))\n",
    "    scale_valid = np.array(hdf_valid.get('scale'))\n",
    "\n",
    "with h5py.File('/home/maxim/depth_dataset/valid_minimal.h5', 'w') as hdf_valid_minimal:\n",
    "        hdf_valid_minimal.create_dataset('center', data=center_valid)\n",
    "        hdf_valid_minimal.create_dataset('scale', data=scale_valid)\n",
    "        hdf_valid_minimal.create_dataset('part', data=part_valid)\n"
   ]
  },
  {
   "cell_type": "code",
   "execution_count": null,
   "metadata": {},
   "outputs": [],
   "source": []
  }
 ],
 "metadata": {
  "kernelspec": {
   "display_name": "Python 3",
   "language": "python",
   "name": "python3"
  },
  "language_info": {
   "codemirror_mode": {
    "name": "ipython",
    "version": 3
   },
   "file_extension": ".py",
   "mimetype": "text/x-python",
   "name": "python",
   "nbconvert_exporter": "python",
   "pygments_lexer": "ipython3",
   "version": "3.6.9"
  }
 },
 "nbformat": 4,
 "nbformat_minor": 4
}
