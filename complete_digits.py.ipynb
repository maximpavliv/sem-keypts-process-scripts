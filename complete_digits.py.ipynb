{
 "cells": [
  {
   "cell_type": "code",
   "execution_count": 73,
   "metadata": {},
   "outputs": [
    {
     "name": "stdout",
     "output_type": "stream",
     "text": [
      "73 files in directory\n"
     ]
    }
   ],
   "source": [
    "import os\n",
    "import glob\n",
    "\n",
    "number_digits = 4\n",
    "\n",
    "extension = \".jpg\"\n",
    "\n",
    "number_digits_w_extension = number_digits+len(extension)\n",
    "\n",
    "root_source = \"/home/maxim/depth_dataset/semantic_keypoints_dataset/2a4/dragonfly2/1/image_annotated\"\n",
    "\n",
    "abs_file_path_list = glob.glob(root_source+\"/*\"+extension)\n",
    "abs_file_path_list.sort()\n",
    "\n",
    "print(str(len(abs_file_path_list))+\" files in directory\")\n",
    "#print(abs_file_path_list)\n",
    "\n",
    "for abs_file_path in abs_file_path_list:\n",
    "    filename = abs_file_path[len(root_source)+1:]\n",
    "    new_abs_file_path = root_source+\"/\"+\"0\"*(number_digits_w_extension-len(filename))+filename\n",
    "    os.rename(abs_file_path, new_abs_file_path)\n"
   ]
  },
  {
   "cell_type": "code",
   "execution_count": null,
   "metadata": {},
   "outputs": [],
   "source": []
  }
 ],
 "metadata": {
  "kernelspec": {
   "display_name": "Python 3",
   "language": "python",
   "name": "python3"
  },
  "language_info": {
   "codemirror_mode": {
    "name": "ipython",
    "version": 3
   },
   "file_extension": ".py",
   "mimetype": "text/x-python",
   "name": "python",
   "nbconvert_exporter": "python",
   "pygments_lexer": "ipython3",
   "version": "3.6.9"
  }
 },
 "nbformat": 4,
 "nbformat_minor": 4
}
