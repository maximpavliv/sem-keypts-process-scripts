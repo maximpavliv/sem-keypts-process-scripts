{
 "cells": [
  {
   "cell_type": "code",
   "execution_count": 119,
   "metadata": {},
   "outputs": [
    {
     "name": "stdout",
     "output_type": "stream",
     "text": [
      "74 files in directory\n"
     ]
    }
   ],
   "source": [
    "import os\n",
    "import glob\n",
    "from shutil import copyfile\n",
    "\n",
    "starting_index = 19191\n",
    "\n",
    "number_digits = 5\n",
    "\n",
    "extension = \".jpg\"\n",
    "\n",
    "root_source = \"/home/maxim/semantic_keypoints_dataset_GT_step5/2a4/dragonfly2/1/image_raw\"\n",
    "\n",
    "abs_file_path_list = glob.glob(root_source+\"/*\"+extension)\n",
    "abs_file_path_list.sort()\n",
    "\n",
    "print(str(len(abs_file_path_list))+\" files in directory\")\n",
    "\n",
    "#print(\"\\n\".join(abs_file_path_list))\n",
    "#os.rename(r'file path\\OLD file name.file type',r'file path\\NEW file name.file type')\n",
    "\n",
    "root_destination = root_source+\"_copy\"\n",
    "os.mkdir(root_destination)\n",
    "\n",
    "for abs_file_path in abs_file_path_list:\n",
    "    copyfile(abs_file_path, root_destination+\"/\"+\"0\"*(number_digits-len(str(starting_index)))+str(starting_index)+extension)\n",
    "    starting_index = starting_index+1\n",
    "\n"
   ]
  },
  {
   "cell_type": "code",
   "execution_count": null,
   "metadata": {},
   "outputs": [],
   "source": []
  }
 ],
 "metadata": {
  "kernelspec": {
   "display_name": "Python 3",
   "language": "python",
   "name": "python3"
  },
  "language_info": {
   "codemirror_mode": {
    "name": "ipython",
    "version": 3
   },
   "file_extension": ".py",
   "mimetype": "text/x-python",
   "name": "python",
   "nbconvert_exporter": "python",
   "pygments_lexer": "ipython3",
   "version": "3.6.9"
  }
 },
 "nbformat": 4,
 "nbformat_minor": 4
}
