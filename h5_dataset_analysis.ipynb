{
 "cells": [
  {
   "cell_type": "markdown",
   "metadata": {},
   "source": [
    "# Read train.h5 and investigate!\n",
    "## Restart Kernel!"
   ]
  },
  {
   "cell_type": "code",
   "execution_count": 1,
   "metadata": {},
   "outputs": [
    {
     "name": "stdout",
     "output_type": "stream",
     "text": [
      "Items in the base directory of train:\n",
      "('center', <HDF5 dataset \"center\": shape (15271, 2), type \"<f8\">)\n",
      "('imgname', <HDF5 dataset \"imgname\": shape (15271,), type \"|S1\">)\n",
      "('index', <HDF5 dataset \"index\": shape (15271,), type \"<u2\">)\n",
      "('normalize', <HDF5 dataset \"normalize\": shape (15271,), type \"|u1\">)\n",
      "('part', <HDF5 dataset \"part\": shape (15271, 102, 2), type \"<f8\">)\n",
      "('person', <HDF5 dataset \"person\": shape (15271,), type \"|u1\">)\n",
      "('scale', <HDF5 dataset \"scale\": shape (15271,), type \"<f8\">)\n",
      "('torsoangle', <HDF5 dataset \"torsoangle\": shape (15271,), type \"|u1\">)\n",
      "('visible', <HDF5 dataset \"visible\": shape (15271,), type \"|u1\">)\n",
      "['name']\n",
      "[b'pascal3d_v4']\n",
      "Train centers:\n",
      "(15271, 2)\n",
      "[[ 26.38520871  40.08711434]\n",
      " [156.57410882 236.19418386]\n",
      " [250.87523452 197.87335835]\n",
      " ...\n",
      " [199.77404719 154.55263158]\n",
      " [247.5        201.5       ]\n",
      " [225.60971787 180.88401254]]\n",
      "Train image names:\n",
      "(15271,)\n",
      "[b'n' b'n' b'n' ... b'n' b'2' b'n']\n",
      "Train indexes:\n",
      "(15271,)\n",
      "[ 6130 24994 28596 ... 14544 20164  3948]\n",
      "Train part:\n",
      "(15271, 102, 2)\n",
      "[[[ -1.          -1.        ]\n",
      "  [ -1.          -1.        ]\n",
      "  [ -1.          -1.        ]\n",
      "  ...\n",
      "  [ -1.          -1.        ]\n",
      "  [ -1.          -1.        ]\n",
      "  [ -1.          -1.        ]]\n",
      "\n",
      " [[ -1.          -1.        ]\n",
      "  [ -1.          -1.        ]\n",
      "  [ -1.          -1.        ]\n",
      "  ...\n",
      "  [ -1.          -1.        ]\n",
      "  [ -1.          -1.        ]\n",
      "  [ -1.          -1.        ]]\n",
      "\n",
      " [[ -1.          -1.        ]\n",
      "  [ -1.          -1.        ]\n",
      "  [ -1.          -1.        ]\n",
      "  ...\n",
      "  [300.52068463 284.64810882]\n",
      "  [ -1.          -1.        ]\n",
      "  [298.5487888   86.51756238]]\n",
      "\n",
      " ...\n",
      "\n",
      " [[ -1.          -1.        ]\n",
      "  [ -1.          -1.        ]\n",
      "  [ -1.          -1.        ]\n",
      "  ...\n",
      "  [ -1.          -1.        ]\n",
      "  [ -1.          -1.        ]\n",
      "  [ -1.          -1.        ]]\n",
      "\n",
      " [[ -1.          -1.        ]\n",
      "  [ -1.          -1.        ]\n",
      "  [ -1.          -1.        ]\n",
      "  ...\n",
      "  [ -1.          -1.        ]\n",
      "  [ -1.          -1.        ]\n",
      "  [ -1.          -1.        ]]\n",
      "\n",
      " [[ -1.          -1.        ]\n",
      "  [ -1.          -1.        ]\n",
      "  [ -1.          -1.        ]\n",
      "  ...\n",
      "  [ -1.          -1.        ]\n",
      "  [ -1.          -1.        ]\n",
      "  [ -1.          -1.        ]]]\n",
      "Train scale:\n",
      "(15271,)\n",
      "[0.3106225  1.72832645 2.95984615 ... 2.23612704 2.964      2.05625078]\n"
     ]
    }
   ],
   "source": [
    "import h5py\n",
    "import numpy as np\n",
    "\n",
    "with h5py.File('/home/maxim/depth_dataset/train.h5', 'r') as hdf_train:\n",
    "    train_base_items = list(hdf_train.items())\n",
    "    print('Items in the base directory of train:')\n",
    "    for train_base_item in train_base_items:\n",
    "        print(train_base_item)\n",
    "\n",
    "        \n",
    "    center_train = np.array(hdf_train.get('center'))\n",
    "    imgname_train = np.array(hdf_train.get('imgname'))\n",
    "    index_train = np.array(hdf_train.get('index'))\n",
    "    normalize_train = np.array(hdf_train.get('normalize'))\n",
    "    part_train = np.array(hdf_train.get('part'))\n",
    "    person_train = np.array(hdf_train.get('person'))\n",
    "    scale_train = np.array(hdf_train.get('scale'))\n",
    "    torsoangle_train = np.array(hdf_train.get('torsoangle'))\n",
    "    visible_train = np.array(hdf_train.get('visible'))\n",
    "    k_train = list(hdf_train.attrs.keys())\n",
    "    v_train = list(hdf_train.attrs.values())\n",
    "    \n",
    "    print(k_train)\n",
    "    print(v_train)\n",
    "    \n",
    "    \n",
    "    print('Train centers:')\n",
    "    print(center_train.shape)\n",
    "    print(center_train) #Interesting information.. to investigate\n",
    "    \n",
    "    print('Train image names:')\n",
    "    print(imgname_train.shape)\n",
    "    print(imgname_train) #Not very clear what is inside\n",
    "    \n",
    "    print('Train indexes:')\n",
    "    print(index_train.shape)\n",
    "    print(index_train) #Numbers between 0 and 29672, sparse, and shuffled. Each number is unique\n",
    "    #Purpose not clear\n",
    "    \n",
    "    #print('Train normalize:')\n",
    "    #print(normalize_train.shape)\n",
    "    #print(normalize_train) #Are only zeros\n",
    "    \n",
    "    print('Train part:')\n",
    "    print(part_train.shape)\n",
    "    print(part_train) #Weird format (nb_images x 102 x2)... Most of elements are -1 ??\n",
    "    \n",
    "    #print('Train person:')\n",
    "    #print(person_train.shape)\n",
    "    #print(person_train) #Are only ONES\n",
    "    \n",
    "    print('Train scale:')\n",
    "    print(scale_train.shape)\n",
    "    print(scale_train) #Interesting values.. to investigate\n",
    "    \n",
    "    #print('Train torsoangle:')\n",
    "    #print(torsoangle_train.shape)\n",
    "    #print(torsoangle_train) # Are only zeros\n",
    "    \n",
    "    #print('Train visible:')\n",
    "    #print(visible_train.shape)\n",
    "    #print(visible_train) # Are only ONES      \n"
   ]
  },
  {
   "cell_type": "markdown",
   "metadata": {},
   "source": [
    "# Read valid.h5, and investigate!\n",
    "## Restart Kernel!"
   ]
  },
  {
   "cell_type": "code",
   "execution_count": 1,
   "metadata": {
    "scrolled": true
   },
   "outputs": [
    {
     "name": "stdout",
     "output_type": "stream",
     "text": [
      "Items in the base directory of valid:\n",
      "('center', <HDF5 dataset \"center\": shape (5991, 2), type \"<f8\">)\n",
      "('imgname', <HDF5 dataset \"imgname\": shape (5991,), type \"|S1\">)\n",
      "('index', <HDF5 dataset \"index\": shape (5991,), type \"<u2\">)\n",
      "('normalize', <HDF5 dataset \"normalize\": shape (5991,), type \"|u1\">)\n",
      "('part', <HDF5 dataset \"part\": shape (5991, 102, 2), type \"<f8\">)\n",
      "('person', <HDF5 dataset \"person\": shape (5991,), type \"|u1\">)\n",
      "('scale', <HDF5 dataset \"scale\": shape (5991,), type \"<f8\">)\n",
      "('torsoangle', <HDF5 dataset \"torsoangle\": shape (5991,), type \"|u1\">)\n",
      "('visible', <HDF5 dataset \"visible\": shape (5991,), type \"|u1\">)\n",
      "['name']\n",
      "[b'tvmonitor']\n",
      "Valid centers:\n",
      "(5991, 2)\n",
      "[[244.5 218. ]\n",
      " [188.  306.5]\n",
      " [217.  129.5]\n",
      " ...\n",
      " [219.5 181. ]\n",
      " [259.  221. ]\n",
      " [214.  254. ]]\n",
      "Valid image names:\n",
      "(5991,)\n",
      "[b'2' b'2' b'2' ... b'2' b'2' b'2']\n",
      "Valid indexes:\n",
      "(5991,)\n",
      "[   1    2    3 ... 5989 5990 5991]\n",
      "Valid part:\n",
      "(5991, 102, 2)\n",
      "[[[ -1.          -1.        ]\n",
      "  [ -1.          -1.        ]\n",
      "  [204.83579336 217.5202952 ]\n",
      "  ...\n",
      "  [ -1.          -1.        ]\n",
      "  [ -1.          -1.        ]\n",
      "  [ -1.          -1.        ]]\n",
      "\n",
      " [[ -1.          -1.        ]\n",
      "  [ -1.          -1.        ]\n",
      "  [176.49878935 208.12711864]\n",
      "  ...\n",
      "  [ -1.          -1.        ]\n",
      "  [ -1.          -1.        ]\n",
      "  [ -1.          -1.        ]]\n",
      "\n",
      " [[493.75423729 170.94067797]\n",
      "  [482.36440678 204.29661017]\n",
      "  [ 31.65254237 215.68644068]\n",
      "  ...\n",
      "  [ -1.          -1.        ]\n",
      "  [ -1.          -1.        ]\n",
      "  [ -1.          -1.        ]]\n",
      "\n",
      " ...\n",
      "\n",
      " [[ -1.          -1.        ]\n",
      "  [ -1.          -1.        ]\n",
      "  [ -1.          -1.        ]\n",
      "  ...\n",
      "  [ -1.          -1.        ]\n",
      "  [ -1.          -1.        ]\n",
      "  [ -1.          -1.        ]]\n",
      "\n",
      " [[ -1.          -1.        ]\n",
      "  [ -1.          -1.        ]\n",
      "  [ -1.          -1.        ]\n",
      "  ...\n",
      "  [ -1.          -1.        ]\n",
      "  [ -1.          -1.        ]\n",
      "  [ -1.          -1.        ]]\n",
      "\n",
      " [[ -1.          -1.        ]\n",
      "  [ -1.          -1.        ]\n",
      "  [ -1.          -1.        ]\n",
      "  ...\n",
      "  [ -1.          -1.        ]\n",
      "  [ -1.          -1.        ]\n",
      "  [ -1.          -1.        ]]]\n",
      "Valid scales:\n",
      "(5991,)\n",
      "[2.772 2.25  2.322 ... 1.998 0.474 0.81 ]\n"
     ]
    }
   ],
   "source": [
    "import h5py\n",
    "import numpy as np\n",
    "\n",
    "with h5py.File('/home/maxim/depth_dataset/valid.h5', 'r') as hdf_valid:\n",
    "    valid_base_items = list(hdf_valid.items())\n",
    "    print('Items in the base directory of valid:')\n",
    "    for valid_base_item in valid_base_items:\n",
    "        print(valid_base_item)\n",
    "    center_valid = np.array(hdf_valid.get('center'))\n",
    "    imgname_valid = np.array(hdf_valid.get('imgname'))\n",
    "    index_valid = np.array(hdf_valid.get('index'))\n",
    "    normalize_valid = np.array(hdf_valid.get('normalize'))\n",
    "    part_valid = np.array(hdf_valid.get('part'))\n",
    "    person_valid = np.array(hdf_valid.get('person'))\n",
    "    scale_valid = np.array(hdf_valid.get('scale'))\n",
    "    torsoangle_valid = np.array(hdf_valid.get('torsoangle'))\n",
    "    visible_valid = np.array(hdf_valid.get('visible'))\n",
    "    k_valid = list(hdf_valid.attrs.keys())\n",
    "    v_valid = list(hdf_valid.attrs.values())\n",
    "    \n",
    "    print(k_valid)\n",
    "    print(v_valid)\n",
    "    \n",
    "    print('Valid centers:')\n",
    "    print(center_valid.shape)\n",
    "    print(center_valid) #Interesting information.. to investigate\n",
    "    \n",
    "    print('Valid image names:')\n",
    "    print(imgname_valid.shape)\n",
    "    print(imgname_valid) #Not very clear what is inside\n",
    "    \n",
    "    print('Valid indexes:')\n",
    "    print(index_valid.shape)\n",
    "    print(index_valid) # In range from 1 to 5992\n",
    "    \n",
    "    #print('Valid normalize:')\n",
    "    #print(normalize_valid.shape)\n",
    "    #print(normalize_valid) #Are only zeros\n",
    "    \n",
    "    print('Valid part:')\n",
    "    print(part_valid.shape)\n",
    "    print(part_valid) #Weird format (nb_images x 102 x2)... Most of elements are -1 ??\n",
    "    \n",
    "    #print('Valid person:')\n",
    "    #print(person_valid.shape)\n",
    "    #print(person_valid) #Are only ZEROS\n",
    "    \n",
    "    print('Valid scales:')\n",
    "    print(scale_valid.shape)\n",
    "    print(scale_valid) #Interesting values.. to investigate\n",
    "    \n",
    "    #print('Valid torsoangle:')\n",
    "    #print(torsoangle_valid.shape)\n",
    "    #print(torsoangle_valid) # Are only zeros\n",
    "    \n",
    "    #print('Valid visible:')\n",
    "    #print(visible_valid.shape)\n",
    "    #print(visible_valid) # Are only ZEROS"
   ]
  },
  {
   "cell_type": "markdown",
   "metadata": {},
   "source": [
    "# Read valid_x.h5 (heatmap), and investigate!\n",
    "## Restart Kernel!"
   ]
  },
  {
   "cell_type": "code",
   "execution_count": 8,
   "metadata": {},
   "outputs": [
    {
     "name": "stdout",
     "output_type": "stream",
     "text": [
      "Items in the base directory of heatmap:\n",
      "('heatmaps', <HDF5 dataset \"heatmaps\": shape (1, 10, 64, 64), type \"<f4\">)\n",
      "heatmap:\n",
      "(1, 10, 64, 64)\n",
      "-----------------------------------------\n",
      "Heatmap 0:\n",
      "Max: 0.30369955\n",
      "[16],[48]\n"
     ]
    },
    {
     "data": {
      "image/png": "[encoded data removed]",
      "text/plain": [
       "<Figure size 432x288 with 1 Axes>"
      ]
     },
     "metadata": {
      "needs_background": "light"
     },
     "output_type": "display_data"
    },
    {
     "name": "stdout",
     "output_type": "stream",
     "text": [
      "Heatmap 1:\n",
      "Max: 0.3281831\n",
      "[28],[40]\n"
     ]
    },
    {
     "data": {
      "image/png": "[encoded data removed]",
      "text/plain": [
       "<Figure size 432x288 with 1 Axes>"
      ]
     },
     "metadata": {
      "needs_background": "light"
     },
     "output_type": "display_data"
    },
    {
     "name": "stdout",
     "output_type": "stream",
     "text": [
      "Heatmap 2:\n",
      "Max: 0.47800344\n",
      "[48],[51]\n"
     ]
    },
    {
     "data": {
      "image/png": "[encoded data removed]",
      "text/plain": [
       "<Figure size 432x288 with 1 Axes>"
      ]
     },
     "metadata": {
      "needs_background": "light"
     },
     "output_type": "display_data"
    },
    {
     "name": "stdout",
     "output_type": "stream",
     "text": [
      "Heatmap 3:\n",
      "Max: 0.25008422\n",
      "[40],[57]\n"
     ]
    },
    {
     "data": {
      "image/png": "[encoded data removed]",
      "text/plain": [
       "<Figure size 432x288 with 1 Axes>"
      ]
     },
     "metadata": {
      "needs_background": "light"
     },
     "output_type": "display_data"
    },
    {
     "name": "stdout",
     "output_type": "stream",
     "text": [
      "Heatmap 4:\n",
      "Max: 0.5642959\n",
      "[18],[24]\n"
     ]
    },
    {
     "data": {
      "image/png": "[encoded data removed]",
      "text/plain": [
       "<Figure size 432x288 with 1 Axes>"
      ]
     },
     "metadata": {
      "needs_background": "light"
     },
     "output_type": "display_data"
    },
    {
     "name": "stdout",
     "output_type": "stream",
     "text": [
      "Heatmap 5:\n",
      "Max: 0.29709944\n",
      "[23],[19]\n"
     ]
    },
    {
     "data": {
      "image/png": "[encoded data removed]",
      "text/plain": [
       "<Figure size 432x288 with 1 Axes>"
      ]
     },
     "metadata": {
      "needs_background": "light"
     },
     "output_type": "display_data"
    },
    {
     "name": "stdout",
     "output_type": "stream",
     "text": [
      "Heatmap 6:\n",
      "Max: 0.08968083\n",
      "[52],[34]\n"
     ]
    },
    {
     "data": {
      "image/png": "[encoded data removed]",
      "text/plain": [
       "<Figure size 432x288 with 1 Axes>"
      ]
     },
     "metadata": {
      "needs_background": "light"
     },
     "output_type": "display_data"
    },
    {
     "name": "stdout",
     "output_type": "stream",
     "text": [
      "Heatmap 7:\n",
      "Max: 0.24008761\n",
      "[44],[42]\n"
     ]
    },
    {
     "data": {
      "image/png": "[encoded data removed]",
      "text/plain": [
       "<Figure size 432x288 with 1 Axes>"
      ]
     },
     "metadata": {
      "needs_background": "light"
     },
     "output_type": "display_data"
    },
    {
     "name": "stdout",
     "output_type": "stream",
     "text": [
      "Heatmap 8:\n",
      "Max: 0.14345299\n",
      "[30],[15]\n"
     ]
    },
    {
     "data": {
      "image/png": "[encoded data removed]",
      "text/plain": [
       "<Figure size 432x288 with 1 Axes>"
      ]
     },
     "metadata": {
      "needs_background": "light"
     },
     "output_type": "display_data"
    },
    {
     "name": "stdout",
     "output_type": "stream",
     "text": [
      "Heatmap 9:\n",
      "Max: 0.4748562\n",
      "[12],[3]\n"
     ]
    },
    {
     "data": {
      "image/png": "[encoded data removed]",
      "text/plain": [
       "<Figure size 432x288 with 1 Axes>"
      ]
     },
     "metadata": {
      "needs_background": "light"
     },
     "output_type": "display_data"
    }
   ],
   "source": [
    "import h5py\n",
    "import numpy as np\n",
    "import matplotlib.pyplot as plt\n",
    "\n",
    "with h5py.File('/home/maxim/depth_estimation/object3d/demo/gascan/exp/valid_1.h5', 'r') as hdf_heatmap:\n",
    "    heatmap_base_items = list(hdf_heatmap.items())\n",
    "    print('Items in the base directory of heatmap:')\n",
    "    for heatmap_base_item in heatmap_base_items:\n",
    "        print(heatmap_base_item)\n",
    "\n",
    "    # no attributes in the file nor in the datasets.\n",
    "        \n",
    "    heatmaps = np.array(hdf_heatmap.get('heatmaps'))\n",
    "    \n",
    "    print('heatmap:')\n",
    "    print(heatmaps.shape)\n",
    "    print(\"-----------------------------------------\")\n",
    "    #print(heatmaps[0,0,:,:])\n",
    "    for h in range(0, heatmaps.shape[1]):\n",
    "        #print(\"heatmap \"+str(h)+\": min=\"+str(np.min(heatmaps[0,h,:,:]))+\", max=\"+str(np.max(heatmaps[0,h,:,:])))\n",
    "        hm = heatmaps[0,h,:,:]\n",
    "        print(\"Heatmap \"+str(h)+\":\")\n",
    "        max_hm = np.amax(hm)\n",
    "        print(\"Max: \"+str(max_hm))\n",
    "        max_hm_pos = np.where(hm == max_hm)\n",
    "        print(str(max_hm_pos[1])+\",\"+str(max_hm_pos[0]))\n",
    "        plt.imshow(hm, cmap='hot', interpolation='nearest')\n",
    "        plt.show()\n",
    "    "
   ]
  },
  {
   "cell_type": "markdown",
   "metadata": {},
   "source": [
    "# Sandbox 1\n",
    "## Restart Kernel!"
   ]
  },
  {
   "cell_type": "code",
   "execution_count": 1,
   "metadata": {},
   "outputs": [
    {
     "data": {
      "image/png": "[encoded data removed]",
      "text/plain": [
       "<Figure size 432x288 with 1 Axes>"
      ]
     },
     "metadata": {
      "needs_background": "light"
     },
     "output_type": "display_data"
    }
   ],
   "source": [
    "from matplotlib import pyplot as plt\n",
    "import cv2\n",
    "\n",
    "img = cv2.imread('arpl.jpg')\n",
    "#gray = cv2.cvtColor(img, cv2.COLOR_BGR2GRAY)\n",
    "img_colors = cv2.cvtColor(img, cv2.COLOR_BGR2RGB)\n",
    "\n",
    "plt.imshow(img_colors)\n",
    "#plt.imshow(gray)\n",
    "plt.title('my picture')\n",
    "plt.show()"
   ]
  },
  {
   "cell_type": "markdown",
   "metadata": {},
   "source": [
    "# Sandbox 2\n",
    "## Restart Kernel!"
   ]
  },
  {
   "cell_type": "markdown",
   "metadata": {},
   "source": [
    "# Sandbox 3\n",
    "## Restart Kernel!"
   ]
  },
  {
   "cell_type": "markdown",
   "metadata": {},
   "source": [
    "\n",
    "\n",
    "\n",
    "\n",
    "\n",
    "\n",
    "\n",
    "\n",
    "\n",
    "\n",
    "\n",
    "\n",
    "\n",
    "\n"
   ]
  },
  {
   "cell_type": "markdown",
   "metadata": {},
   "source": [
    "\n",
    "\n",
    "\n",
    "\n",
    "\n",
    "\n",
    "\n",
    "\n"
   ]
  },
  {
   "cell_type": "code",
   "execution_count": 1,
   "metadata": {},
   "outputs": [],
   "source": [
    "import h5py\n",
    "import numpy as np\n",
    "\n",
    "data_train_debug = np.random.random(size = (15271,1))\n",
    "data_valid_debug = np.random.random(size = (5991,1))\n",
    "\n",
    "with h5py.File('/home/maxim/depth_dataset/train_debug.h5', 'w') as hdf_train_debug:\n",
    "        hdf_train_debug.create_dataset('z', data=data_train_debug)\n",
    "        \n",
    "with h5py.File('/home/maxim/depth_dataset/valid_debug.h5', 'w') as hdf_valid_debug:\n",
    "        hdf_valid_debug.create_dataset('z', data=data_valid_debug)        "
   ]
  },
  {
   "cell_type": "code",
   "execution_count": 2,
   "metadata": {
    "scrolled": true
   },
   "outputs": [
    {
     "name": "stdout",
     "output_type": "stream",
     "text": [
      "Items in the base directory: \n",
      " [('z', <HDF5 dataset \"z\": shape (15271, 1), type \"<f8\">)]\n",
      "[[0.66568765]\n",
      " [0.27136146]\n",
      " [0.44759658]\n",
      " ...\n",
      " [0.79536396]\n",
      " [0.57745708]\n",
      " [0.40955944]]\n",
      "Items in the base directory: \n",
      " [('z', <HDF5 dataset \"z\": shape (5991, 1), type \"<f8\">)]\n",
      "[[0.07935458]\n",
      " [0.58500657]\n",
      " [0.68245434]\n",
      " ...\n",
      " [0.09206546]\n",
      " [0.89346287]\n",
      " [0.8720875 ]]\n"
     ]
    }
   ],
   "source": [
    "import h5py\n",
    "import numpy as np\n",
    "\n",
    "with h5py.File('/home/maxim/depth_dataset/train_debug.h5', 'r') as hdf_train_debug:\n",
    "    train_debug_items = list(hdf_train_debug.items())\n",
    "    print('Items in the base directory: \\n', train_debug_items)\n",
    "    Z = np.array(hdf_train_debug.get('z'))\n",
    "    print(Z)\n",
    "    \n",
    "with h5py.File('/home/maxim/depth_dataset/valid_debug.h5', 'r') as hdf_valid_debug:\n",
    "    valid_debug_items = list(hdf_valid_debug.items())\n",
    "    print('Items in the base directory: \\n', valid_debug_items)\n",
    "    Z = np.array(hdf_valid_debug.get('z'))\n",
    "    print(Z)\n",
    "\n",
    "    "
   ]
  },
  {
   "cell_type": "markdown",
   "metadata": {},
   "source": [
    "# Create minimal dataset"
   ]
  },
  {
   "cell_type": "code",
   "execution_count": 1,
   "metadata": {},
   "outputs": [
    {
     "name": "stdout",
     "output_type": "stream",
     "text": [
      "[('center', <HDF5 dataset \"center\": shape (15271, 2), type \"<f8\">), ('part', <HDF5 dataset \"part\": shape (15271, 102, 2), type \"<f8\">), ('scale', <HDF5 dataset \"scale\": shape (15271,), type \"<f8\">)]\n"
     ]
    }
   ],
   "source": [
    "import h5py\n",
    "import numpy as np\n",
    "\n",
    "hdf_train = h5py.File('/home/maxim/depth_dataset/train.h5', 'r')\n",
    "        \n",
    "center_train = np.array(hdf_train.get('center'))\n",
    "#imgname_train = np.array(hdf_train.get('imgname'))\n",
    "#index_train = np.array(hdf_train.get('index'))\n",
    "#normalize_train = np.array(hdf_train.get('normalize'))\n",
    "part_train = np.array(hdf_train.get('part'))\n",
    "#person_train = np.array(hdf_train.get('person'))\n",
    "scale_train = np.array(hdf_train.get('scale'))\n",
    "#torsoangle_train = np.array(hdf_train.get('torsoangle'))\n",
    "#visible_train = np.array(hdf_train.get('visible'))\n",
    "#k_train = list(hdf_train.attrs.keys())\n",
    "#v_train = list(hdf_train.attrs.values())\n",
    "\n",
    "hdf_train.close()\n",
    "\n",
    "\n",
    "\n",
    "hdf_train_minimal = h5py.File('/home/maxim/depth_dataset/train_minimal.h5', 'w')\n",
    "hdf_train_minimal.create_dataset('part', data=part_train)\n",
    "hdf_train_minimal.create_dataset('center', data=center_train)\n",
    "hdf_train_minimal.create_dataset('scale', data=scale_train)\n",
    "hdf_train_minimal.close()\n",
    "\n",
    "\n",
    "\n",
    "hdf_train_minimal_r = h5py.File('/home/maxim/depth_dataset/train_minimal.h5', 'r')\n",
    "base_items_r = list(hdf_train_minimal_r.items())\n",
    "print(base_items_r)\n",
    "hdf_train_minimal_r.close()\n"
   ]
  },
  {
   "cell_type": "code",
   "execution_count": 1,
   "metadata": {},
   "outputs": [
    {
     "name": "stdout",
     "output_type": "stream",
     "text": [
      "[('center', <HDF5 dataset \"center\": shape (5991, 2), type \"<f8\">), ('part', <HDF5 dataset \"part\": shape (5991, 102, 2), type \"<f8\">), ('scale', <HDF5 dataset \"scale\": shape (5991,), type \"<f8\">)]\n"
     ]
    }
   ],
   "source": [
    "import h5py\n",
    "import numpy as np\n",
    "\n",
    "hdf_valid = h5py.File('/home/maxim/depth_dataset/valid.h5', 'r')\n",
    "        \n",
    "center_valid = np.array(hdf_valid.get('center'))\n",
    "#imgname_valid = np.array(hdf_valid.get('imgname'))\n",
    "#index_valid = np.array(hdf_valid.get('index'))\n",
    "#normalize_valid = np.array(hdf_valid.get('normalize'))\n",
    "part_valid = np.array(hdf_valid.get('part'))\n",
    "#person_valid = np.array(hdf_valid.get('person'))\n",
    "scale_valid = np.array(hdf_valid.get('scale'))\n",
    "#torsoangle_valid = np.array(hdf_valid.get('torsoangle'))\n",
    "#visible_valid = np.array(hdf_valid.get('visible'))\n",
    "#k_valid = list(hdf_valid.attrs.keys())\n",
    "#v_valid = list(hdf_valid.attrs.values())\n",
    "\n",
    "hdf_valid.close()\n",
    "\n",
    "\n",
    "\n",
    "hdf_valid_minimal = h5py.File('/home/maxim/depth_dataset/valid_minimal.h5', 'w')\n",
    "hdf_valid_minimal.create_dataset('part', data=part_valid)\n",
    "hdf_valid_minimal.create_dataset('center', data=center_valid)\n",
    "hdf_valid_minimal.create_dataset('scale', data=scale_valid)\n",
    "hdf_valid_minimal.close()\n",
    "\n",
    "\n",
    "\n",
    "hdf_valid_minimal_r = h5py.File('/home/maxim/depth_dataset/valid_minimal.h5', 'r')\n",
    "base_items_r = list(hdf_valid_minimal_r.items())\n",
    "print(base_items_r)\n",
    "hdf_valid_minimal_r.close()\n"
   ]
  },
  {
   "cell_type": "markdown",
   "metadata": {},
   "source": [
    "# HDF5 Tutorials"
   ]
  },
  {
   "cell_type": "markdown",
   "metadata": {},
   "source": [
    "# Create hdf5_tutorial_groups.h5 file, containing 2 groups with datasets inside, datasets of Group1 compressed\n",
    "## Restart Kernel!"
   ]
  },
  {
   "cell_type": "code",
   "execution_count": 1,
   "metadata": {},
   "outputs": [],
   "source": [
    "import h5py\n",
    "import numpy as np\n",
    "\n",
    "matrix1 = np.random.random(size = (1000,1000))\n",
    "matrix2 = np.random.random(size = (1000,1000))\n",
    "matrix3= np.random.random(size = (1000,1000))\n",
    "matrix4 = np.random.random(size = (1000,1000))\n",
    "\n",
    "with h5py.File('/home/maxim/depth_dataset/hdf5_tutorial_groups.h5', 'w') as hdf:\n",
    "    G1 = hdf.create_group('Group1')\n",
    "    G1.create_dataset('dataset1', data=matrix1, compression=\"gzip\", compression_opts=9)\n",
    "    G1.create_dataset('dataset4', data=matrix4, compression=\"gzip\", compression_opts=9)\n",
    "    \n",
    "    G2 = hdf.create_group('Group2/SubGroup1')\n",
    "    G2.create_dataset('dataset3', data=matrix3)\n",
    "    \n",
    "    G22 = hdf.create_group('Group2/SubGroup2')\n",
    "    G22.create_dataset('dataset2', data = matrix2)\n",
    "    "
   ]
  },
  {
   "cell_type": "markdown",
   "metadata": {},
   "source": [
    "# Read hdf5_tutorial_groups.h5 file, created previously\n",
    "## Restart Kernel!"
   ]
  },
  {
   "cell_type": "code",
   "execution_count": 1,
   "metadata": {},
   "outputs": [
    {
     "name": "stdout",
     "output_type": "stream",
     "text": [
      "Items in the base directory: \n",
      " [('Group1', <HDF5 group \"/Group1\" (2 members)>), ('Group2', <HDF5 group \"/Group2\" (2 members)>)]\n",
      "Items in Group1:  [('dataset1', <HDF5 dataset \"dataset1\": shape (1000, 1000), type \"<f8\">), ('dataset4', <HDF5 dataset \"dataset4\": shape (1000, 1000), type \"<f8\">)]\n",
      "(1000, 1000)\n",
      "Items in Group2:  [('SubGroup1', <HDF5 group \"/Group2/SubGroup1\" (1 members)>), ('SubGroup2', <HDF5 group \"/Group2/SubGroup2\" (1 members)>)]\n",
      "Items in Group21: [('dataset3', <HDF5 dataset \"dataset3\": shape (1000, 1000), type \"<f8\">)]\n",
      "(1000, 1000)\n"
     ]
    }
   ],
   "source": [
    "import h5py\n",
    "import numpy as np\n",
    "\n",
    "with h5py.File('/home/maxim/depth_dataset/hdf5_tutorial_groups.h5', 'r') as hdf:\n",
    "    base_items = list(hdf.items())\n",
    "    print('Items in the base directory: \\n', base_items)\n",
    "    G1 = hdf.get('Group1')\n",
    "    G1_items = list(G1.items())\n",
    "    print('Items in Group1: ', G1_items)\n",
    "    dataset4 = np.array(G1.get('dataset4'))\n",
    "    print(dataset4.shape)\n",
    "    \n",
    "    G2 = hdf.get('Group2')\n",
    "    G2_items = list(G2.items())\n",
    "    print('Items in Group2: ',G2_items)\n",
    "    G21 = G2.get('/Group2/SubGroup1')\n",
    "    G21_items = list(G21.items())    \n",
    "    print('Items in Group21:', G21_items)\n",
    "    dataset3 = np.array(G21.get('dataset3'))\n",
    "    print(dataset3.shape)"
   ]
  },
  {
   "cell_type": "markdown",
   "metadata": {},
   "source": [
    "# Create hdf5_tutorial_attributes.h5 file, containing 2 datasets with attributes\n",
    "## Restart Kernel!"
   ]
  },
  {
   "cell_type": "code",
   "execution_count": 1,
   "metadata": {},
   "outputs": [],
   "source": [
    "import h5py\n",
    "import numpy as np\n",
    "\n",
    "matrix1 = np.random.random(size = (1000,1000))\n",
    "matrix2 = np.random.random(size = (1000,100))\n",
    "\n",
    "hdf = h5py.File('/home/maxim/depth_dataset/hdf5_tutorial_attributes.h5', 'w')\n",
    "\n",
    "dataset1 = hdf.create_dataset('dataset1', data=matrix1)\n",
    "dataset2 = hdf.create_dataset('dataset2', data=matrix2)\n",
    "\n",
    "dataset1.attrs['CLASS'] = 'DATA MATRIX'\n",
    "dataset1.attrs['VERSION'] = '1.1'\n",
    "\n",
    "hdf.close()\n"
   ]
  },
  {
   "cell_type": "markdown",
   "metadata": {},
   "source": [
    "# Read hdf5_tutorial_attributes.h5 file, created previously\n",
    "## Restart Kernel!\n"
   ]
  },
  {
   "cell_type": "code",
   "execution_count": 1,
   "metadata": {},
   "outputs": [],
   "source": [
    "import h5py\n",
    "import numpy as np\n",
    "\n",
    "hdf = h5py.File('/home/maxim/depth_dataset/hdf5_tutorial_attributes.h5', 'r')\n",
    "ls = list(hdf.keys())\n",
    "print('List of datasets in this file: \\n', ls)\n",
    "data = hdf.get('dataset1')\n",
    "dataset1 = np.array(data)\n",
    "print('Shape of dataset1: \\n', dataset1.shape)\n",
    "\n",
    "k = list(data.attrs.keys())\n",
    "v = list(data.attrs.values())\n",
    "print(k[0])\n",
    "print(v[0])\n",
    "print(data.attrs[k[0]])\n",
    "\n",
    "hdf.close()\n"
   ]
  },
  {
   "cell_type": "markdown",
   "metadata": {},
   "source": [
    "# HDF5 with Pandas\n",
    "## Restart Kernel!"
   ]
  },
  {
   "cell_type": "code",
   "execution_count": 1,
   "metadata": {},
   "outputs": [
    {
     "data": {
      "text/plain": [
       "[]"
      ]
     },
     "execution_count": 1,
     "metadata": {},
     "output_type": "execute_result"
    }
   ],
   "source": [
    "import pandas as pd\n",
    "\n",
    "hdf = pd.HDFStore('/home/maxim/depth_dataset/hdf5_tutorial_groups.h5',mode='r')\n",
    "\n",
    "hdf.keys()"
   ]
  },
  {
   "cell_type": "code",
   "execution_count": null,
   "metadata": {},
   "outputs": [],
   "source": []
  },
  {
   "cell_type": "code",
   "execution_count": null,
   "metadata": {},
   "outputs": [],
   "source": []
  },
  {
   "cell_type": "markdown",
   "metadata": {},
   "source": [
    "# Read drones_train.h5, and investigate!\n",
    "## Restart Kernel!"
   ]
  },
  {
   "cell_type": "code",
   "execution_count": 3,
   "metadata": {},
   "outputs": [
    {
     "name": "stdout",
     "output_type": "stream",
     "text": [
      "Items in the base directory of train:\n",
      "('center', <HDF5 dataset \"center\": shape (10891, 2), type \"<f8\">)\n",
      "('part', <HDF5 dataset \"part\": shape (10891, 8, 2), type \"<f8\">)\n",
      "('scale', <HDF5 dataset \"scale\": shape (10891,), type \"<f8\">)\n",
      "[]\n",
      "[]\n",
      "Train centers:\n",
      "(10891, 2)\n",
      "[[412. 272.]\n",
      " [412. 272.]\n",
      " [412. 272.]\n",
      " ...\n",
      " [467. 362.]\n",
      " [465. 369.]\n",
      " [463. 374.]]\n",
      "Train part:\n",
      "(10891, 8, 2)\n",
      "[[[382.621 264.892]\n",
      "  [383.199 281.645]\n",
      "  [414.805 263.106]\n",
      "  ...\n",
      "  [410.427 282.801]\n",
      "  [442.127 263.29 ]\n",
      "  [442.615 279.946]]\n",
      "\n",
      " [[382.621 264.892]\n",
      "  [383.199 281.645]\n",
      "  [414.805 263.106]\n",
      "  ...\n",
      "  [410.427 282.801]\n",
      "  [442.127 263.29 ]\n",
      "  [442.615 279.946]]\n",
      "\n",
      " [[382.621 264.892]\n",
      "  [383.199 281.645]\n",
      "  [414.805 263.106]\n",
      "  ...\n",
      "  [410.427 282.801]\n",
      "  [442.127 263.29 ]\n",
      "  [442.615 279.946]]\n",
      "\n",
      " ...\n",
      "\n",
      " [[440.356 357.106]\n",
      "  [440.285 375.709]\n",
      "  [451.71  347.52 ]\n",
      "  ...\n",
      "  [486.637 378.279]\n",
      "  [494.753 349.527]\n",
      "  [494.563 366.964]]\n",
      "\n",
      " [[438.487 362.884]\n",
      "  [438.131 381.595]\n",
      "  [450.388 353.706]\n",
      "  ...\n",
      "  [484.492 384.861]\n",
      "  [493.425 356.339]\n",
      "  [492.997 373.88 ]]\n",
      "\n",
      " [[436.58  367.695]\n",
      "  [435.926 386.48 ]\n",
      "  [448.601 358.558]\n",
      "  ...\n",
      "  [482.394 390.463]\n",
      "  [491.72  361.855]\n",
      "  [491.024 379.455]]]\n",
      "Train scale:\n",
      "(10891,)\n",
      "[0.5   0.5   0.5   ... 0.47  0.475 0.48 ]\n"
     ]
    }
   ],
   "source": [
    "import h5py\n",
    "import numpy as np\n",
    "\n",
    "with h5py.File('/home/maxim/depth_dataset/drones_train.h5', 'r') as hdf_train:\n",
    "    train_base_items = list(hdf_train.items())\n",
    "    print('Items in the base directory of train:')\n",
    "    for train_base_item in train_base_items:\n",
    "        print(train_base_item)\n",
    "\n",
    "        \n",
    "    center_train = np.array(hdf_train.get('center'))\n",
    "    part_train = np.array(hdf_train.get('part'))\n",
    "    scale_train = np.array(hdf_train.get('scale'))\n",
    "    k_train = list(hdf_train.attrs.keys())\n",
    "    v_train = list(hdf_train.attrs.values())\n",
    "    \n",
    "    print(k_train)\n",
    "    print(v_train)\n",
    "    \n",
    "    \n",
    "    print('Train centers:')\n",
    "    print(center_train.shape)\n",
    "    print(center_train) #Interesting information.. to investigate\n",
    "    \n",
    "    print('Train part:')\n",
    "    print(part_train.shape)\n",
    "    print(part_train) #Weird format (nb_images x 102 x2)... Most of elements are -1 ??\n",
    "    \n",
    "    print('Train scale:')\n",
    "    print(scale_train.shape)\n",
    "    print(scale_train) #Interesting values.. to investigate\n"
   ]
  },
  {
   "cell_type": "code",
   "execution_count": null,
   "metadata": {},
   "outputs": [],
   "source": []
  }
 ],
 "metadata": {
  "kernelspec": {
   "display_name": "Python 3",
   "language": "python",
   "name": "python3"
  },
  "language_info": {
   "codemirror_mode": {
    "name": "ipython",
    "version": 3
   },
   "file_extension": ".py",
   "mimetype": "text/x-python",
   "name": "python",
   "nbconvert_exporter": "python",
   "pygments_lexer": "ipython3",
   "version": "3.6.9"
  }
 },
 "nbformat": 4,
 "nbformat_minor": 4
}
